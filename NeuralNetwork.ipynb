{
  "nbformat": 4,
  "nbformat_minor": 0,
  "metadata": {
    "colab": {
      "name": "NeuralNetwork.ipynb",
      "provenance": [],
      "toc_visible": true
    },
    "kernelspec": {
      "name": "python3",
      "display_name": "Python 3"
    },
    "language_info": {
      "name": "python"
    }
  },
  "cells": [
    {
      "cell_type": "code",
      "metadata": {
        "id": "6g-4BD7Eql-b"
      },
      "source": [
        "import numpy as np\n",
        "import matplotlib.pyplot as plt\n",
        "\n",
        "np.random.seed(0)\n",
        "\n",
        "X = np.array([ [0,0], [0,1], [1,0], [1,1] ])\n",
        "Y = np.array([ [0], [1], [1], [0] ])"
      ],
      "execution_count": 39,
      "outputs": []
    },
    {
      "cell_type": "code",
      "metadata": {
        "id": "0er9Sy8dqnYu"
      },
      "source": [
        "class NeuralNetwork(object):\n",
        "    def __init__(self):\n",
        "        inputLayerNeurons = 2\n",
        "        hiddenLayerNeurons = 10\n",
        "        outLayerNeurons = 1\n",
        "        \n",
        "        self.learning_rate = 0.2\n",
        "        self.W_HI = np.random.randn(inputLayerNeurons, hiddenLayerNeurons)\n",
        "        self.W_OH = np.random.randn(hiddenLayerNeurons, outLayerNeurons)\n",
        "        \n",
        "    def sigmoid(self, x, der=False):\n",
        "        if der == True:\n",
        "            return x * (1-x)\n",
        "        else:\n",
        "            return 1 / (1 + np.exp(-x))\n",
        "        \n",
        "    def feedForward(self, X):\n",
        "        hidden_input = np.dot(X, self.W_HI)\n",
        "        self.hidden_output = self.sigmoid(hidden_input)\n",
        "        \n",
        "        output_input = np.dot(self.hidden_output, self.W_OH)\n",
        "        pred = self.sigmoid(output_input)\n",
        "        return pred\n",
        "        \n",
        "    def backPropagation(self, X, Y, pred):\n",
        "        output_error = Y - pred\n",
        "        output_delta = self.learning_rate * output_error * self.sigmoid(pred, der=True)\n",
        "        \n",
        "        hidden_error = output_delta.dot(self.W_OH.T)\n",
        "        hidden_delta = self.learning_rate * hidden_error * self.sigmoid(self.hidden_output, der=True)\n",
        "        \n",
        "        self.W_HI += X.T.dot(hidden_delta)\n",
        "        self.W_OH += self.hidden_output.T.dot(output_delta)\n",
        "        \n",
        "    def train(self, X, Y):\n",
        "        output = self.feedForward(X)\n",
        "        self.backPropagation(X,Y,output)"
      ],
      "execution_count": 40,
      "outputs": []
    },
    {
      "cell_type": "code",
      "metadata": {
        "colab": {
          "base_uri": "https://localhost:8080/",
          "height": 282
        },
        "id": "xQ9_S6H8z_OO",
        "outputId": "8b0be41a-9c42-4a1c-e11d-c7c0aaaa1d42"
      },
      "source": [
        "NN = NeuralNetwork()\n",
        "\n",
        "err = []\n",
        "for i in range(10000):\n",
        "    NN.train(X,Y)\n",
        "    err.append(np.mean(np.square(Y - NN.feedForward(X))))\n",
        "\n",
        "plt.plot(err)"
      ],
      "execution_count": 41,
      "outputs": [
        {
          "output_type": "execute_result",
          "data": {
            "text/plain": [
              "[<matplotlib.lines.Line2D at 0x7f15b6df4a50>]"
            ]
          },
          "metadata": {},
          "execution_count": 41
        },
        {
          "output_type": "display_data",
          "data": {
            "image/png": "[encoded data removed]",
            "text/plain": [
              "<Figure size 432x288 with 1 Axes>"
            ]
          },
          "metadata": {
            "needs_background": "light"
          }
        }
      ]
    },
    {
      "cell_type": "code",
      "metadata": {
        "colab": {
          "base_uri": "https://localhost:8080/"
        },
        "id": "37y1ag0H0aNm",
        "outputId": "aba0747c-c082-4692-d58d-df60304b9299"
      },
      "source": [
        "print(NN.feedForward([0,0]))"
      ],
      "execution_count": 42,
      "outputs": [
        {
          "output_type": "stream",
          "name": "stdout",
          "text": [
            "[0.05285688]\n"
          ]
        }
      ]
    },
    {
      "cell_type": "code",
      "metadata": {
        "colab": {
          "base_uri": "https://localhost:8080/"
        },
        "id": "yBclAgeP0lk8",
        "outputId": "96701920-a5ba-4bf5-8712-8e8b2a14e3d8"
      },
      "source": [
        "\n",
        "print(NN.feedForward([1,1]))"
      ],
      "execution_count": 43,
      "outputs": [
        {
          "output_type": "stream",
          "name": "stdout",
          "text": [
            "[0.04283578]\n"
          ]
        }
      ]
    },
    {
      "cell_type": "code",
      "metadata": {
        "colab": {
          "base_uri": "https://localhost:8080/"
        },
        "id": "c-qHwy3g4ilU",
        "outputId": "670b4899-c5c5-457e-e866-b7a7f5d03e3d"
      },
      "source": [
        "print(NN.feedForward([1,0]))\n"
      ],
      "execution_count": 44,
      "outputs": [
        {
          "output_type": "stream",
          "name": "stdout",
          "text": [
            "[0.95335457]\n"
          ]
        }
      ]
    },
    {
      "cell_type": "code",
      "metadata": {
        "colab": {
          "base_uri": "https://localhost:8080/"
        },
        "id": "ZBIJ4eaL4mQE",
        "outputId": "010b516f-be6e-40fc-bef1-b394f84d2608"
      },
      "source": [
        "print(NN.feedForward([0,1]))"
      ],
      "execution_count": 45,
      "outputs": [
        {
          "output_type": "stream",
          "name": "stdout",
          "text": [
            "[0.95587195]\n"
          ]
        }
      ]
    }
  ]
}