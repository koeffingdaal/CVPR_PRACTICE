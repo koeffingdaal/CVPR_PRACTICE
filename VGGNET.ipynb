{
  "nbformat": 4,
  "nbformat_minor": 0,
  "metadata": {
    "colab": {
      "name": "VGGNET.ipynb",
      "provenance": []
    },
    "kernelspec": {
      "name": "python3",
      "display_name": "Python 3"
    },
    "language_info": {
      "name": "python"
    },
    "accelerator": "GPU"
  },
  "cells": [
    {
      "cell_type": "code",
      "metadata": {
        "id": "jyaG-_t-LMOW"
      },
      "source": [
        "import tensorflow as tf\n",
        "from tensorflow import keras\n",
        "from tensorflow.keras import layers\n",
        "from tensorflow.keras.datasets import cifar10\n",
        "from tensorflow.keras.callbacks import EarlyStopping\n",
        "\n",
        "import os\n",
        "import numpy as np\n",
        "import matplotlib.pyplot as plt\n",
        "\n",
        "# ignore information messgaes from tensorflow, but we will receieve error messages\n",
        "os.environ['TFF_CPP_MIN_LOG_LEVEL'] = '2'\n",
        "\n",
        "%matplotlib inline"
      ],
      "execution_count": 1,
      "outputs": []
    },
    {
      "cell_type": "code",
      "metadata": {
        "colab": {
          "base_uri": "https://localhost:8080/"
        },
        "id": "TQoHprUWLs-F",
        "outputId": "52a8ef8f-abd9-48fb-8763-f6df495a5afb"
      },
      "source": [
        "(X_train, Y_train), (X_test, Y_test) = cifar10.load_data()\n",
        "print(X_train.shape, Y_train.shape)\n",
        "print(X_test.shape, Y_test.shape)"
      ],
      "execution_count": 2,
      "outputs": [
        {
          "output_type": "stream",
          "name": "stdout",
          "text": [
            "(50000, 32, 32, 3) (50000, 1)\n",
            "(10000, 32, 32, 3) (10000, 1)\n"
          ]
        }
      ]
    },
    {
      "cell_type": "code",
      "metadata": {
        "id": "LnlkXyrOLzMs"
      },
      "source": [
        "class_names = ['airplane', 'automobile', 'bird', 'cat', 'deer', 'dog', 'frog', 'horse', 'ship', 'truck']"
      ],
      "execution_count": 3,
      "outputs": []
    },
    {
      "cell_type": "code",
      "metadata": {
        "colab": {
          "base_uri": "https://localhost:8080/"
        },
        "id": "XGqCkiKzL78N",
        "outputId": "02ed0bc7-882d-47fb-d8a1-cf007f3f14e7"
      },
      "source": [
        "mean_rgb = np.mean(X_train, axis=(0,1,2))\n",
        "print(mean_rgb)"
      ],
      "execution_count": 4,
      "outputs": [
        {
          "output_type": "stream",
          "name": "stdout",
          "text": [
            "[125.30691805 122.95039414 113.86538318]\n"
          ]
        }
      ]
    },
    {
      "cell_type": "code",
      "metadata": {
        "id": "7S9t4lqaMV81"
      },
      "source": [
        "X_train_norm = np.empty_like(X_train)\n",
        "X_test_norm = np.empty_like(X_test)"
      ],
      "execution_count": 5,
      "outputs": []
    },
    {
      "cell_type": "code",
      "metadata": {
        "id": "lT0KHNrRMlCz"
      },
      "source": [
        "for i in range(len(X_train)):\n",
        "    for c in range(3):\n",
        "        if(c==1):\n",
        "            X_train_norm[i,:, :, c] = X_train[i,:, :, c] - mean_rgb[0]\n",
        "        elif(c==2):\n",
        "            X_train_norm[i,:, :, c] = X_train[i,:, :, c] - mean_rgb[1]\n",
        "        else:\n",
        "            X_train_norm[i,:, :, c] = X_train[i,:, :, c] - mean_rgb[2]\n",
        "            \n",
        "for i in range(len(X_test)):\n",
        "    for c in range(3):\n",
        "        if(c==1):\n",
        "            X_test_norm[i,:, :, c] = X_test[i,:, :, c] - mean_rgb[0]\n",
        "        elif(c==2):\n",
        "            X_test_norm[i,:, :, c] = X_test[i,:, :, c] - mean_rgb[1]\n",
        "        else:\n",
        "            X_test_norm[i,:, :, c] = X_test[i,:, :, c] - mean_rgb[2]"
      ],
      "execution_count": 6,
      "outputs": []
    },
    {
      "cell_type": "code",
      "metadata": {
        "colab": {
          "base_uri": "https://localhost:8080/",
          "height": 729
        },
        "id": "T_bHXtSaMnME",
        "outputId": "1c3ab023-042e-41ee-d0c9-6b54fdf0960b"
      },
      "source": [
        "c = 0\n",
        "plt.figure(figsize=(5,10))\n",
        "for i in range(5):\n",
        "    plt.subplot(5,2,c+1)\n",
        "    plt.imshow(X_train[i].astype('uint8'))\n",
        "    plt.xticks([])\n",
        "    plt.yticks([])\n",
        "    \n",
        "    plt.subplot(5,2,c+2)\n",
        "    plt.imshow(X_train_norm[i].astype('uint8'))\n",
        "    plt.xticks([])\n",
        "    plt.yticks([])\n",
        "\n",
        "    c += 2\n",
        "    \n",
        "plt.tight_layout()\n",
        "plt.show()"
      ],
      "execution_count": 7,
      "outputs": [
        {
          "output_type": "display_data",
          "data": {
            "image/png": "[encoded data removed]",
            "text/plain": [
              "<Figure size 360x720 with 10 Axes>"
            ]
          },
          "metadata": {}
        }
      ]
    },
    {
      "cell_type": "code",
      "metadata": {
        "colab": {
          "base_uri": "https://localhost:8080/"
        },
        "id": "nJ-1syzOM_F8",
        "outputId": "a1270f79-6cba-4358-e225-bbc94cb4e583"
      },
      "source": [
        "model = keras.Sequential([\n",
        "    ## input layer\n",
        "    keras.Input(shape=X_train_norm.shape[1:]),\n",
        "    \n",
        "    layers.Conv2D(filters=64, kernel_size=(3,3), strides=(1,1), padding='same'),\n",
        "    layers.Activation('relu'),\n",
        "    layers.Conv2D(filters=64, kernel_size=(3,3), strides=(1,1), padding='same'),\n",
        "    layers.Activation('relu'),\n",
        "    layers.MaxPooling2D(pool_size=(2,2), strides=(2,2), padding='valid'),\n",
        "    \n",
        "    \n",
        "    layers.Conv2D(filters=128, kernel_size=(3,3), strides=(1,1), padding='same'),\n",
        "    layers.Activation('relu'),\n",
        "    layers.Conv2D(filters=128, kernel_size=(3,3), strides=(1,1), padding='same'),\n",
        "    layers.Activation('relu'),\n",
        "    layers.MaxPooling2D(pool_size=(2,2), strides=(2,2), padding='valid'),\n",
        "    \n",
        "    layers.Conv2D(filters=256, kernel_size=(3,3), strides=(1,1), padding='same'),\n",
        "    layers.Activation('relu'),\n",
        "    layers.Conv2D(filters=256, kernel_size=(3,3), strides=(1,1), padding='same'),\n",
        "    layers.Activation('relu'),\n",
        "    layers.Conv2D(filters=256, kernel_size=(3,3), strides=(1,1), padding='same'),\n",
        "    layers.Activation('relu'),\n",
        "    layers.MaxPooling2D(pool_size=(2,2), strides=(2,2), padding='valid'),\n",
        "    \n",
        "    \n",
        "    layers.Conv2D(filters=256, kernel_size=(3,3), strides=(1,1), padding='same'),\n",
        "    layers.Activation('relu'),\n",
        "    layers.Conv2D(filters=256, kernel_size=(3,3), strides=(1,1), padding='same'),\n",
        "    layers.Activation('relu'),\n",
        "    layers.Conv2D(filters=256, kernel_size=(3,3), strides=(1,1), padding='same'),\n",
        "    layers.Activation('relu'),\n",
        "    layers.MaxPooling2D(pool_size=(2,2), strides=(2,2), padding='valid'),\n",
        "    \n",
        "    \n",
        "    layers.Flatten(),\n",
        "    \n",
        "    layers.Dense(units=4096),\n",
        "    layers.Activation('relu'),\n",
        "    layers.Dropout(0.5),\n",
        "    \n",
        "    layers.Dense(units=4096),\n",
        "    layers.Activation('relu'),\n",
        "    layers.Dropout(0.5),\n",
        "\n",
        "    layers.Dense(10),\n",
        "    layers.Activation('softmax')\n",
        "])\n",
        "\n",
        "model.summary()"
      ],
      "execution_count": 8,
      "outputs": [
        {
          "output_type": "stream",
          "name": "stdout",
          "text": [
            "Model: \"sequential\"\n",
            "_________________________________________________________________\n",
            "Layer (type)                 Output Shape              Param #   \n",
            "=================================================================\n",
            "conv2d (Conv2D)              (None, 32, 32, 64)        1792      \n",
            "_________________________________________________________________\n",
            "activation (Activation)      (None, 32, 32, 64)        0         \n",
            "_________________________________________________________________\n",
            "conv2d_1 (Conv2D)            (None, 32, 32, 64)        36928     \n",
            "_________________________________________________________________\n",
            "activation_1 (Activation)    (None, 32, 32, 64)        0         \n",
            "_________________________________________________________________\n",
            "max_pooling2d (MaxPooling2D) (None, 16, 16, 64)        0         \n",
            "_________________________________________________________________\n",
            "conv2d_2 (Conv2D)            (None, 16, 16, 128)       73856     \n",
            "_________________________________________________________________\n",
            "activation_2 (Activation)    (None, 16, 16, 128)       0         \n",
            "_________________________________________________________________\n",
            "conv2d_3 (Conv2D)            (None, 16, 16, 128)       147584    \n",
            "_________________________________________________________________\n",
            "activation_3 (Activation)    (None, 16, 16, 128)       0         \n",
            "_________________________________________________________________\n",
            "max_pooling2d_1 (MaxPooling2 (None, 8, 8, 128)         0         \n",
            "_________________________________________________________________\n",
            "conv2d_4 (Conv2D)            (None, 8, 8, 256)         295168    \n",
            "_________________________________________________________________\n",
            "activation_4 (Activation)    (None, 8, 8, 256)         0         \n",
            "_________________________________________________________________\n",
            "conv2d_5 (Conv2D)            (None, 8, 8, 256)         590080    \n",
            "_________________________________________________________________\n",
            "activation_5 (Activation)    (None, 8, 8, 256)         0         \n",
            "_________________________________________________________________\n",
            "conv2d_6 (Conv2D)            (None, 8, 8, 256)         590080    \n",
            "_________________________________________________________________\n",
            "activation_6 (Activation)    (None, 8, 8, 256)         0         \n",
            "_________________________________________________________________\n",
            "max_pooling2d_2 (MaxPooling2 (None, 4, 4, 256)         0         \n",
            "_________________________________________________________________\n",
            "conv2d_7 (Conv2D)            (None, 4, 4, 256)         590080    \n",
            "_________________________________________________________________\n",
            "activation_7 (Activation)    (None, 4, 4, 256)         0         \n",
            "_________________________________________________________________\n",
            "conv2d_8 (Conv2D)            (None, 4, 4, 256)         590080    \n",
            "_________________________________________________________________\n",
            "activation_8 (Activation)    (None, 4, 4, 256)         0         \n",
            "_________________________________________________________________\n",
            "conv2d_9 (Conv2D)            (None, 4, 4, 256)         590080    \n",
            "_________________________________________________________________\n",
            "activation_9 (Activation)    (None, 4, 4, 256)         0         \n",
            "_________________________________________________________________\n",
            "max_pooling2d_3 (MaxPooling2 (None, 2, 2, 256)         0         \n",
            "_________________________________________________________________\n",
            "flatten (Flatten)            (None, 1024)              0         \n",
            "_________________________________________________________________\n",
            "dense (Dense)                (None, 4096)              4198400   \n",
            "_________________________________________________________________\n",
            "activation_10 (Activation)   (None, 4096)              0         \n",
            "_________________________________________________________________\n",
            "dropout (Dropout)            (None, 4096)              0         \n",
            "_________________________________________________________________\n",
            "dense_1 (Dense)              (None, 4096)              16781312  \n",
            "_________________________________________________________________\n",
            "activation_11 (Activation)   (None, 4096)              0         \n",
            "_________________________________________________________________\n",
            "dropout_1 (Dropout)          (None, 4096)              0         \n",
            "_________________________________________________________________\n",
            "dense_2 (Dense)              (None, 10)                40970     \n",
            "_________________________________________________________________\n",
            "activation_12 (Activation)   (None, 10)                0         \n",
            "=================================================================\n",
            "Total params: 24,526,410\n",
            "Trainable params: 24,526,410\n",
            "Non-trainable params: 0\n",
            "_________________________________________________________________\n"
          ]
        }
      ]
    },
    {
      "cell_type": "code",
      "metadata": {
        "id": "MrlIG92zNC8F"
      },
      "source": [
        "model.compile(\n",
        "    optimizer=keras.optimizers.Adam(learning_rate=0.0001), \n",
        "    loss='sparse_categorical_crossentropy', \n",
        "    metrics=['accuracy']\n",
        ")"
      ],
      "execution_count": 9,
      "outputs": []
    },
    {
      "cell_type": "code",
      "metadata": {
        "colab": {
          "base_uri": "https://localhost:8080/"
        },
        "id": "bKtB93upO47p",
        "outputId": "0079962d-9f3f-49bb-947d-0ebe4ae1f7da"
      },
      "source": [
        "cb = EarlyStopping(monitor='val_loss', min_delta=0.02, patience=3, restore_best_weights=True)\n",
        "\n",
        "h = model.fit(x=X_train_norm, y=Y_train, \n",
        "              epochs=20, \n",
        "              validation_split=0.2,\n",
        "              batch_size=1024,\n",
        "              callbacks=[cb]\n",
        "             )"
      ],
      "execution_count": 10,
      "outputs": [
        {
          "output_type": "stream",
          "name": "stdout",
          "text": [
            "Epoch 1/20\n",
            "40/40 [==============================] - 36s 641ms/step - loss: 2.2688 - accuracy: 0.1605 - val_loss: 2.1380 - val_accuracy: 0.2021\n",
            "Epoch 2/20\n",
            "40/40 [==============================] - 21s 520ms/step - loss: 1.9284 - accuracy: 0.2948 - val_loss: 1.8026 - val_accuracy: 0.3346\n",
            "Epoch 3/20\n",
            "40/40 [==============================] - 21s 524ms/step - loss: 1.7570 - accuracy: 0.3549 - val_loss: 1.8906 - val_accuracy: 0.3194\n",
            "Epoch 4/20\n",
            "40/40 [==============================] - 21s 520ms/step - loss: 1.6523 - accuracy: 0.3981 - val_loss: 1.7285 - val_accuracy: 0.3763\n",
            "Epoch 5/20\n",
            "40/40 [==============================] - 21s 520ms/step - loss: 1.5612 - accuracy: 0.4320 - val_loss: 1.5782 - val_accuracy: 0.4248\n",
            "Epoch 6/20\n",
            "40/40 [==============================] - 21s 521ms/step - loss: 1.4746 - accuracy: 0.4652 - val_loss: 1.6488 - val_accuracy: 0.4233\n",
            "Epoch 7/20\n",
            "40/40 [==============================] - 21s 524ms/step - loss: 1.4131 - accuracy: 0.4900 - val_loss: 1.5784 - val_accuracy: 0.4379\n",
            "Epoch 8/20\n",
            "40/40 [==============================] - 21s 523ms/step - loss: 1.3550 - accuracy: 0.5138 - val_loss: 1.5079 - val_accuracy: 0.4552\n",
            "Epoch 9/20\n",
            "40/40 [==============================] - 21s 523ms/step - loss: 1.2618 - accuracy: 0.5437 - val_loss: 1.4928 - val_accuracy: 0.4705\n",
            "Epoch 10/20\n",
            "40/40 [==============================] - 21s 522ms/step - loss: 1.1774 - accuracy: 0.5782 - val_loss: 1.6555 - val_accuracy: 0.4556\n",
            "Epoch 11/20\n",
            "40/40 [==============================] - 21s 521ms/step - loss: 1.1741 - accuracy: 0.5848 - val_loss: 1.5293 - val_accuracy: 0.4895\n"
          ]
        }
      ]
    },
    {
      "cell_type": "code",
      "metadata": {
        "colab": {
          "base_uri": "https://localhost:8080/",
          "height": 241
        },
        "id": "JZxlFP42PcNV",
        "outputId": "82448fe9-3563-42ed-8ee6-d659ced39033"
      },
      "source": [
        "plt.figure(figsize=(15,5))\n",
        "plt.subplot(1,2,1)\n",
        "plt.plot(h.history['accuracy'], '--', label='train accuracy')\n",
        "plt.plot(h.history['val_accuracy'], '--', label = 'validation accuracy')\n",
        "plt.xlabel('Epoch')\n",
        "plt.ylabel('Accuracy')\n",
        "plt.grid(True)\n",
        "plt.legend(loc='lower right')\n",
        "\n",
        "plt.subplot(1,2,2)\n",
        "plt.plot(h.history['loss'], '--', label='train loss')\n",
        "plt.plot(h.history['val_loss'], '--', label='validation loss')\n",
        "plt.xlabel('Epoch')\n",
        "plt.ylabel('Loss')\n",
        "plt.grid(True)\n",
        "plt.legend(loc='upper right')\n",
        "\n",
        "plt.show()"
      ],
      "execution_count": 11,
      "outputs": [
        {
          "output_type": "display_data",
          "data": {
            "image/png": "[encoded data removed]",
            "text/plain": [
              "<Figure size 1080x360 with 2 Axes>"
            ]
          },
          "metadata": {
            "needs_background": "light"
          }
        }
      ]
    },
    {
      "cell_type": "code",
      "metadata": {
        "id": "2mkat5eaPxkV"
      },
      "source": [
        "model.save('my_vgg.h5')"
      ],
      "execution_count": 13,
      "outputs": []
    },
    {
      "cell_type": "code",
      "metadata": {
        "id": "myrYAxOxTNn1"
      },
      "source": [
        "from tensorflow.keras.models import load_model\n",
        "\n"
      ],
      "execution_count": 18,
      "outputs": []
    },
    {
      "cell_type": "code",
      "metadata": {
        "id": "kilPNTeLT_Wi"
      },
      "source": [
        "vgg_model = load_model('my_vgg.h5')"
      ],
      "execution_count": 20,
      "outputs": []
    },
    {
      "cell_type": "code",
      "metadata": {
        "colab": {
          "base_uri": "https://localhost:8080/"
        },
        "id": "ufzFnuArUJPN",
        "outputId": "80f441c6-6e24-414e-a684-0bee7118f817"
      },
      "source": [
        "vgg_model.summary()"
      ],
      "execution_count": 21,
      "outputs": [
        {
          "output_type": "stream",
          "name": "stdout",
          "text": [
            "Model: \"sequential\"\n",
            "_________________________________________________________________\n",
            "Layer (type)                 Output Shape              Param #   \n",
            "=================================================================\n",
            "conv2d (Conv2D)              (None, 32, 32, 64)        1792      \n",
            "_________________________________________________________________\n",
            "activation (Activation)      (None, 32, 32, 64)        0         \n",
            "_________________________________________________________________\n",
            "conv2d_1 (Conv2D)            (None, 32, 32, 64)        36928     \n",
            "_________________________________________________________________\n",
            "activation_1 (Activation)    (None, 32, 32, 64)        0         \n",
            "_________________________________________________________________\n",
            "max_pooling2d (MaxPooling2D) (None, 16, 16, 64)        0         \n",
            "_________________________________________________________________\n",
            "conv2d_2 (Conv2D)            (None, 16, 16, 128)       73856     \n",
            "_________________________________________________________________\n",
            "activation_2 (Activation)    (None, 16, 16, 128)       0         \n",
            "_________________________________________________________________\n",
            "conv2d_3 (Conv2D)            (None, 16, 16, 128)       147584    \n",
            "_________________________________________________________________\n",
            "activation_3 (Activation)    (None, 16, 16, 128)       0         \n",
            "_________________________________________________________________\n",
            "max_pooling2d_1 (MaxPooling2 (None, 8, 8, 128)         0         \n",
            "_________________________________________________________________\n",
            "conv2d_4 (Conv2D)            (None, 8, 8, 256)         295168    \n",
            "_________________________________________________________________\n",
            "activation_4 (Activation)    (None, 8, 8, 256)         0         \n",
            "_________________________________________________________________\n",
            "conv2d_5 (Conv2D)            (None, 8, 8, 256)         590080    \n",
            "_________________________________________________________________\n",
            "activation_5 (Activation)    (None, 8, 8, 256)         0         \n",
            "_________________________________________________________________\n",
            "conv2d_6 (Conv2D)            (None, 8, 8, 256)         590080    \n",
            "_________________________________________________________________\n",
            "activation_6 (Activation)    (None, 8, 8, 256)         0         \n",
            "_________________________________________________________________\n",
            "max_pooling2d_2 (MaxPooling2 (None, 4, 4, 256)         0         \n",
            "_________________________________________________________________\n",
            "conv2d_7 (Conv2D)            (None, 4, 4, 256)         590080    \n",
            "_________________________________________________________________\n",
            "activation_7 (Activation)    (None, 4, 4, 256)         0         \n",
            "_________________________________________________________________\n",
            "conv2d_8 (Conv2D)            (None, 4, 4, 256)         590080    \n",
            "_________________________________________________________________\n",
            "activation_8 (Activation)    (None, 4, 4, 256)         0         \n",
            "_________________________________________________________________\n",
            "conv2d_9 (Conv2D)            (None, 4, 4, 256)         590080    \n",
            "_________________________________________________________________\n",
            "activation_9 (Activation)    (None, 4, 4, 256)         0         \n",
            "_________________________________________________________________\n",
            "max_pooling2d_3 (MaxPooling2 (None, 2, 2, 256)         0         \n",
            "_________________________________________________________________\n",
            "flatten (Flatten)            (None, 1024)              0         \n",
            "_________________________________________________________________\n",
            "dense (Dense)                (None, 4096)              4198400   \n",
            "_________________________________________________________________\n",
            "activation_10 (Activation)   (None, 4096)              0         \n",
            "_________________________________________________________________\n",
            "dropout (Dropout)            (None, 4096)              0         \n",
            "_________________________________________________________________\n",
            "dense_1 (Dense)              (None, 4096)              16781312  \n",
            "_________________________________________________________________\n",
            "activation_11 (Activation)   (None, 4096)              0         \n",
            "_________________________________________________________________\n",
            "dropout_1 (Dropout)          (None, 4096)              0         \n",
            "_________________________________________________________________\n",
            "dense_2 (Dense)              (None, 10)                40970     \n",
            "_________________________________________________________________\n",
            "activation_12 (Activation)   (None, 10)                0         \n",
            "=================================================================\n",
            "Total params: 24,526,410\n",
            "Trainable params: 24,526,410\n",
            "Non-trainable params: 0\n",
            "_________________________________________________________________\n"
          ]
        }
      ]
    },
    {
      "cell_type": "code",
      "metadata": {
        "colab": {
          "base_uri": "https://localhost:8080/"
        },
        "id": "0OOSTZf3UNbW",
        "outputId": "076b70f2-f7f9-4394-b979-0012f87b04fa"
      },
      "source": [
        "test_loss, test_acc = vgg_model.evaluate(X_test_norm, Y_test)\n",
        "print('\\nTest Accuracy:', test_acc)\n",
        "print('\\nTest Loss:', test_loss)"
      ],
      "execution_count": 22,
      "outputs": [
        {
          "output_type": "stream",
          "name": "stdout",
          "text": [
            "313/313 [==============================] - 4s 13ms/step - loss: 1.5096 - accuracy: 0.4543\n",
            "\n",
            "Test Accuracy: 0.4542999863624573\n",
            "\n",
            "Test Loss: 1.5096076726913452\n"
          ]
        }
      ]
    },
    {
      "cell_type": "code",
      "metadata": {
        "id": "j817lJLJUXIm"
      },
      "source": [
        ""
      ],
      "execution_count": null,
      "outputs": []
    }
  ]
}